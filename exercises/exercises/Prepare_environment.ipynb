{
 "cells": [
  {
   "cell_type": "markdown",
   "metadata": {
    "colab_type": "text",
    "id": "2UwD1r2AqT3Q"
   },
   "source": [
    "# Setting up the environment\n",
    "\n",
    "**Degree** Master Inter-Universitario de Data Science \n",
    "\n",
    "**Course** Machine Learning I\n",
    "\n",
    "**Lecturer** Ignacio Heredia\n",
    "\n",
    "---\n",
    "\n",
    "**Objective**\n",
    "Setting up the environment to use the [Google Colaboratory](https://colab.research.google.com) tool, or the [IFCA DataScienceHub](https://datasciencehub.ifca.es/).\n",
    "\n",
    "**Duration**\n",
    "1 min\n",
    "\n",
    "---"
   ]
  },
  {
   "cell_type": "markdown",
   "metadata": {},
   "source": [
    "# Using GPU (for Google Colab)\n",
    "\n",
    "Go to `Runtime` > `Change runtime type` and select `GPU`"
   ]
  },
  {
   "cell_type": "code",
   "execution_count": null,
   "metadata": {},
   "outputs": [],
   "source": [
    "import tensorflow as tf\n",
    "device_name = tf.test.gpu_device_name()\n",
    "if device_name != '/device:GPU:0':\n",
    "    raise SystemError('GPU device not found')\n",
    "print('Found GPU at: {}'.format(device_name))"
   ]
  },
  {
   "cell_type": "markdown",
   "metadata": {},
   "source": [
    "# Installing the required packages"
   ]
  },
  {
   "cell_type": "code",
   "execution_count": null,
   "metadata": {
    "colab": {
     "autoexec": {
      "startup": false,
      "wait_interval": 0
     },
     "base_uri": "https://localhost:8080/",
     "height": 611,
     "output_extras": [
      {
       "item_id": 5
      }
     ]
    },
    "colab_type": "code",
    "executionInfo": {
     "elapsed": 12085,
     "status": "ok",
     "timestamp": 1520497877813,
     "user": {
      "displayName": "Ignacio Heredia",
      "photoUrl": "https://lh3.googleusercontent.com/a/default-user=s128",
      "userId": "108263878129152134170"
     },
     "user_tz": -60
    },
    "id": "fhZ85uFtwOWI",
    "outputId": "046aa4e5-ef22-4198-f289-13e9efd043a7"
   },
   "outputs": [],
   "source": [
    "!pip install numpy==1.19.5\n",
    "!pip install matplotlib==3.3.2\n",
    "!pip install tensorflow==2.4.1\n",
    "!pip install scikit-learn==0.23.2"
   ]
  }
 ],
 "metadata": {
  "colab": {
   "default_view": {},
   "name": "Image Classification - Exercise 0.ipynb",
   "provenance": [],
   "version": "0.3.2",
   "views": {}
  },
  "kernelspec": {
   "display_name": "Python 3",
   "language": "python",
   "name": "python3"
  },
  "language_info": {
   "codemirror_mode": {
    "name": "ipython",
    "version": 3
   },
   "file_extension": ".py",
   "mimetype": "text/x-python",
   "name": "python",
   "nbconvert_exporter": "python",
   "pygments_lexer": "ipython3",
   "version": "3.8.5"
  }
 },
 "nbformat": 4,
 "nbformat_minor": 4
}

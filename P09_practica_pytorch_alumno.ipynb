{
 "cells": [
  {
   "cell_type": "markdown",
   "id": "b61e7a55-bc65-48e7-b7e4-acf0e93371d4",
   "metadata": {},
   "source": [
    "## Introducción a PyTorch"
   ]
  },
  {
   "cell_type": "code",
   "execution_count": 1,
   "id": "a0bc4dc9-2a30-42e0-8152-4c2bca5c49f5",
   "metadata": {},
   "outputs": [],
   "source": [
    "import numpy as np\n",
    "import torch\n",
    "from torch.utils.data import Dataset, DataLoader\n",
    "from torchvision import transforms, datasets\n",
    "import torch.nn as nn\n",
    "import matplotlib.pyplot as plt\n",
    "from IPython.display import clear_output"
   ]
  },
  {
   "cell_type": "markdown",
   "id": "87b9dc7a-ba05-4ecd-9581-4a1b0dd8669d",
   "metadata": {},
   "source": [
    "El objetivo de esta práctica es obtener una primera aproximación a PyTorch a través del entrenamiento de un modelo convolucional. Con las herramientas aquí presentadas es posible comenzar a trabajar con PyTorch, expandiendo lo aquí introducido a través de los múltiples recursos disponibles en Internet."
   ]
  },
  {
   "cell_type": "markdown",
   "id": "01ecb39f-4a0a-4b67-8141-65e22d8ae6d1",
   "metadata": {},
   "source": [
    "### Tensors"
   ]
  },
  {
   "cell_type": "markdown",
   "id": "7130c486-37df-4b70-88c2-c633f68b377a",
   "metadata": {},
   "source": [
    "La unidad de trabajo básica en PyTorch son los **tensors**. Estos son muy similares a los arrays de NumPy, con la única diferencia de que los tensors se pueden ejecutar fuera una CPU, por ejemplo en GPUs o TPUs. Estos se pueden crear de muchas formas distintas."
   ]
  },
  {
   "cell_type": "code",
   "execution_count": 2,
   "id": "569dd69a-43ee-4d87-b867-59f7c14d404f",
   "metadata": {},
   "outputs": [
    {
     "name": "stdout",
     "output_type": "stream",
     "text": [
      "tensor([[-1.5843e-01,  2.1687e-01,  5.4810e-01, -1.9873e+00,  5.9781e-02,\n",
      "          6.7619e-01,  4.5398e-01,  3.5554e-01, -2.1393e+00,  7.3652e-01],\n",
      "        [-4.1148e-01,  3.9980e-01,  1.7917e+00, -4.1026e-01, -8.7910e-01,\n",
      "         -9.5576e-01, -2.5498e-01,  5.5537e-01,  5.3280e-01,  1.4668e+00],\n",
      "        [-1.0284e+00,  1.2391e+00, -5.0493e-01,  1.1141e+00, -5.5285e-02,\n",
      "         -7.1691e-01, -2.0328e-01, -4.4085e-01,  1.5077e-01,  1.0772e+00],\n",
      "        [ 1.7726e-01, -2.2778e+00, -7.4089e-01,  6.8870e-01, -9.8955e-01,\n",
      "          6.0419e-01, -2.4854e+00, -7.2781e-01,  3.5540e-01,  7.8178e-01],\n",
      "        [-1.3551e+00, -9.4664e-01,  2.2019e+00, -8.9882e-01, -3.4912e-01,\n",
      "          1.1478e+00,  2.0875e-01,  1.1815e+00, -3.9458e-01, -4.3864e-01],\n",
      "        [-6.0434e-01,  2.7304e-01,  6.1525e-01, -7.5764e-01,  1.3842e+00,\n",
      "         -5.8376e-01,  1.0054e-01,  7.8292e-01, -6.4873e-01,  5.3254e-01],\n",
      "        [ 4.6116e-02,  6.8784e-01,  2.4623e+00, -1.7488e+00,  8.4139e-01,\n",
      "         -5.8663e-01, -5.7921e-01, -8.3769e-02,  1.0938e+00,  1.5151e+00],\n",
      "        [-9.7541e-01, -1.4796e-01,  7.9681e-01,  3.9321e-01, -1.7377e+00,\n",
      "         -6.1688e-01, -6.4986e-01,  7.9828e-01,  7.5537e-02, -2.3865e-01],\n",
      "        [-1.4212e+00, -2.6092e+00,  1.4003e+00, -2.9449e-01,  2.5181e-04,\n",
      "          1.3568e-01, -4.1981e-01, -1.0747e+00, -2.4280e+00,  4.0104e-01],\n",
      "        [-1.1917e+00,  3.7957e-01, -6.3886e-01,  3.0889e-01, -1.4461e+00,\n",
      "          4.2432e-01, -2.0313e-01,  1.3064e+00, -1.8205e+00,  1.5099e+00]],\n",
      "       dtype=torch.float64)\n"
     ]
    }
   ],
   "source": [
    "# A partir de un array de NumPy\n",
    "data_np = np.random.randn(10, 10)\n",
    "data = torch.tensor(data_np)\n",
    "print(data)"
   ]
  },
  {
   "cell_type": "code",
   "execution_count": 3,
   "id": "4cd4ca56-9097-49a3-b3c6-b33c324ca361",
   "metadata": {},
   "outputs": [
    {
     "name": "stdout",
     "output_type": "stream",
     "text": [
      "torch.Size([10, 10])\n",
      "torch.Size([10, 10])\n",
      "torch.Size([1000, 1000])\n"
     ]
    }
   ],
   "source": [
    "# A partir de funciones de PyTorch\n",
    "data_rand = torch.rand_like(data)\n",
    "print(data_rand.shape)\n",
    "\n",
    "data_zeros = torch.zeros(data_rand.shape)\n",
    "print(data_zeros.shape)\n",
    "\n",
    "data_empty = torch.empty((1000, 1000))\n",
    "print(data_empty.shape)"
   ]
  },
  {
   "cell_type": "markdown",
   "id": "806507cc-fb5d-4124-acb3-e5b63bdb0ded",
   "metadata": {},
   "source": [
    "Al igual que NumPy estos tensors pueden ser multidimensionales, para, por ejemplo, almacenar imágenes"
   ]
  },
  {
   "cell_type": "code",
   "execution_count": 4,
   "id": "d3eba303-3978-47a8-bad8-bb522d647d8d",
   "metadata": {},
   "outputs": [
    {
     "name": "stdout",
     "output_type": "stream",
     "text": [
      "torch.Size([50000, 32, 32, 3])\n"
     ]
    }
   ],
   "source": [
    "data_image = torch.empty((50000, 32, 32, 3))\n",
    "print(data_image.shape)"
   ]
  },
  {
   "cell_type": "markdown",
   "id": "ad2501c8-4daf-4c71-9824-f795265916c4",
   "metadata": {},
   "source": [
    "Los tensors se pueden volver a llevar a NumPy de forma muy sencilla"
   ]
  },
  {
   "cell_type": "code",
   "execution_count": 5,
   "id": "8a734406-ac74-4ad2-b194-3c1b4fd5527d",
   "metadata": {},
   "outputs": [
    {
     "data": {
      "text/plain": [
       "True"
      ]
     },
     "execution_count": 5,
     "metadata": {},
     "output_type": "execute_result"
    }
   ],
   "source": [
    "data_image_np = data_image.numpy()\n",
    "isinstance(data_image_np, np.ndarray)"
   ]
  },
  {
   "cell_type": "markdown",
   "id": "d4226d7d-0fd7-4a44-9de1-5b5cf034ce58",
   "metadata": {},
   "source": [
    "Los tensors tienen tres atributos principales:\n",
    "\n",
    "- `shape`: Dimensión del tensor\n",
    "- `dtype`: Tipo de los datos que contiene (e.g., `torch.float16` o `torch.float32`)\n",
    "- `device`: El dispositivo (hardware) en el que el tensor está cargado (e.g., CPU o GPU)"
   ]
  },
  {
   "cell_type": "code",
   "execution_count": 6,
   "id": "92578ab4-437e-43dd-a829-8a77542dab0f",
   "metadata": {},
   "outputs": [
    {
     "name": "stdout",
     "output_type": "stream",
     "text": [
      "Shape of tensor: torch.Size([100, 100])\n",
      "Dtype of tensor: torch.float32\n",
      "Tensor is stored on: cpu\n"
     ]
    }
   ],
   "source": [
    "data = torch.randn(100, 100)\n",
    "print(f'Shape of tensor: {data.shape}')\n",
    "print(f'Dtype of tensor: {data.dtype}')\n",
    "print(f'Tensor is stored on: {data.device}')"
   ]
  },
  {
   "cell_type": "markdown",
   "id": "ce0ad4ba-0342-45aa-b3ca-17cc02c55955",
   "metadata": {},
   "source": [
    "Los atributos `dtype` y `device` juegan un papel fundamental a la hora de desarrollar modelos de deep learning:\n",
    "\n",
    "- El tipo del dato influye directamente en su peso en memoria (e.g., `torch.float16` vs `torch.float32`). Dada la limitada memoria de las GPUs, hoy día se utilizan técnicas que, o bien combinan distintas precisiones o directamente entrenan en datos con precisiones muy bajas (e.g., `torch.intX`).\n",
    "- El `device` en el que un tensor está cargado determina donde se van a ejecutar las operaciones asociadas a este. Cuando entrenamos modelos en GPUs necesitamos mover los datos (y el modelo) a la memoria de la GPU."
   ]
  },
  {
   "cell_type": "code",
   "execution_count": 7,
   "id": "45e0de6f-7205-439d-9405-447ceb8341dd",
   "metadata": {},
   "outputs": [
    {
     "name": "stdout",
     "output_type": "stream",
     "text": [
      "cpu\n"
     ]
    }
   ],
   "source": [
    "# Carga un tensor a la memoria de la GPU (o CPU si esta no está disponible)\n",
    "device = 'cuda' if torch.cuda.is_available() else 'cpu'\n",
    "\n",
    "data = torch.randn(100, 100)\n",
    "data.to(device)\n",
    "print(data.device)"
   ]
  },
  {
   "cell_type": "markdown",
   "id": "32b6b361-efd1-416f-9f05-618185981854",
   "metadata": {},
   "source": [
    "Cuando entrenamos un modelo en una GPU es necesario volver a mover los datos a la CPU para hacer operaciones con ellos"
   ]
  },
  {
   "cell_type": "code",
   "execution_count": null,
   "id": "59aff5aa-6cbf-41e4-a72b-21e59593dd25",
   "metadata": {},
   "outputs": [],
   "source": [
    "# Para esto hace falta tener acceso a una GPU\n",
    "data = torch.randn(3, 3, device='cuda')\n",
    "data_cpu = data.to('cpu').numpy()"
   ]
  },
  {
   "cell_type": "markdown",
   "id": "0e5719b8-626c-4b8b-907c-9fc33d53b4fe",
   "metadata": {},
   "source": [
    "Los tensors de PyTorch aceptan el indexing y slicing de la misma forma que los arrays de NumPy, por lo que, si ya habeis trabajado con NumPy, pasar a PyTorch es muy directo"
   ]
  },
  {
   "cell_type": "code",
   "execution_count": 9,
   "id": "6bb4555b-f22a-4e3c-9ffb-10281af2be9e",
   "metadata": {},
   "outputs": [
    {
     "name": "stdout",
     "output_type": "stream",
     "text": [
      "tensor([[-0.1757,  1.3705,  0.3677, -0.0035,  0.5169, -0.2027,  1.3148, -0.2680,\n",
      "         -0.8054, -0.1629],\n",
      "        [-0.6832, -0.9335, -1.5996,  0.5221,  0.9280, -0.2110,  0.1146, -0.5368,\n",
      "         -1.8052, -0.7372],\n",
      "        [-1.4344, -0.3435,  0.0795, -0.8519, -0.8573, -0.2899, -0.1124, -0.2402,\n",
      "          0.3528, -1.2859],\n",
      "        [-1.2974,  0.7305,  0.3351, -0.4864, -0.4467,  0.7829, -0.9307, -0.6555,\n",
      "          1.1974,  0.0751],\n",
      "        [ 0.6365,  0.5786, -1.2255, -0.2544,  0.0871, -0.8011,  0.3598,  0.2085,\n",
      "         -1.0207, -0.6176],\n",
      "        [ 0.4563,  0.0808,  1.3497, -0.7603,  0.7514,  0.5409,  1.5934, -1.0745,\n",
      "         -0.7245, -0.4698],\n",
      "        [ 0.3391, -2.0140,  0.4994,  0.4747,  0.6311,  0.3122,  0.0458,  1.8412,\n",
      "         -0.4427, -0.4514],\n",
      "        [ 0.9718, -1.6312, -1.0525, -0.6982,  0.9496,  0.3128, -1.1852,  1.1909,\n",
      "          0.3156, -0.4167],\n",
      "        [-1.2181,  0.7417, -2.5289, -1.6919, -1.5839,  0.0242, -0.5853,  0.2623,\n",
      "          0.6430, -0.6644],\n",
      "        [-1.7631,  1.3656, -1.4763, -1.3588,  0.8458,  0.8676, -0.3150,  0.5610,\n",
      "         -0.3033,  1.1228]])\n"
     ]
    }
   ],
   "source": [
    "data = torch.randn(10, 10)\n",
    "print(data)"
   ]
  },
  {
   "cell_type": "code",
   "execution_count": 10,
   "id": "c1bb1cc8-52b9-457f-ae6c-7b8b72748fc1",
   "metadata": {},
   "outputs": [
    {
     "data": {
      "text/plain": [
       "tensor([-0.1757, -0.6832, -1.4344, -1.2974,  0.6365,  0.4563,  0.3391,  0.9718,\n",
       "        -1.2181, -1.7631])"
      ]
     },
     "execution_count": 10,
     "metadata": {},
     "output_type": "execute_result"
    }
   ],
   "source": [
    "data[:, 0]"
   ]
  },
  {
   "cell_type": "code",
   "execution_count": 11,
   "id": "e8d44254-6874-45f0-bd2d-492e2df508da",
   "metadata": {},
   "outputs": [
    {
     "data": {
      "text/plain": [
       "tensor(0.5409)"
      ]
     },
     "execution_count": 11,
     "metadata": {},
     "output_type": "execute_result"
    }
   ],
   "source": [
    "data[5, 5]"
   ]
  },
  {
   "cell_type": "markdown",
   "id": "a6379ad2-83a7-4ae9-8b9c-3af75ad56eb3",
   "metadata": {},
   "source": [
    "PyTorch implementa una gran variedad de operaciones aritméticas, las cuales utiliza como base para implementar operaciones más complejas (e.g., convoluciones o self-attention). Al construir modelos con estas operaciones, cuando el grafo de computación se calcula (de forma dinámica), el cálculo de los gradientes que utilizamos para, por ejemplo, entrenar el modelo, se definen de forma automática (**automatic differentiation**). Podeis encontrar más información sobre estas operaciones en la [documentación oficial](https://pytorch.org/docs/stable/torch.html)."
   ]
  },
  {
   "cell_type": "code",
   "execution_count": 12,
   "id": "257048ce-84f7-49cf-9e58-41f1f7de5c12",
   "metadata": {},
   "outputs": [
    {
     "data": {
      "text/plain": [
       "tensor([-4.3711e-08,  1.1925e-08])"
      ]
     },
     "execution_count": 12,
     "metadata": {},
     "output_type": "execute_result"
    }
   ],
   "source": [
    "# Seno y coseno\n",
    "vector = torch.tensor([torch.pi /2, 3/2 * torch.pi])\n",
    "torch.sin(vector)\n",
    "torch.cos(vector)"
   ]
  },
  {
   "cell_type": "code",
   "execution_count": 13,
   "id": "9d31b831-f4eb-4062-84a1-22683118d4a9",
   "metadata": {},
   "outputs": [
    {
     "name": "stdout",
     "output_type": "stream",
     "text": [
      "torch.Size([20, 20])\n"
     ]
    }
   ],
   "source": [
    "# Multiplicación de matrices\n",
    "x1, x2 = torch.randn(20, 10), torch.randn(10, 20)\n",
    "result = x1.matmul(x2)\n",
    "print(result.shape)"
   ]
  },
  {
   "cell_type": "code",
   "execution_count": 14,
   "id": "3ff4dfc3-bbef-4b05-95ff-0b096fb54697",
   "metadata": {},
   "outputs": [
    {
     "name": "stdout",
     "output_type": "stream",
     "text": [
      "torch.Size([20, 20])\n"
     ]
    }
   ],
   "source": [
    "# Multiplicacion de matrices element-wise\n",
    "x1, x2 = torch.randn(20, 20), torch.randn(20, 20)\n",
    "result = x1.mul(x2)\n",
    "print(result.shape)"
   ]
  },
  {
   "cell_type": "markdown",
   "id": "eaf1aeff-101b-406c-850b-dcebde310bb7",
   "metadata": {},
   "source": [
    "### Datasets y DataLoaders"
   ]
  },
  {
   "cell_type": "markdown",
   "id": "eb0f80f8-e99d-4e01-bdd6-a87a178db6b9",
   "metadata": {},
   "source": [
    "Para entender cómo hay que preparar los datos para PyTorch vamos a cargar los datos de la práctica evaluable de *convoluciones y capas residuales*. Estos datos se pueden descargar de:\n",
    "\n",
    "https://drive.google.com/drive/folders/1XnzY8hKWxifR65XFB3ErI_WZMLzzdR_n?usp=sharing"
   ]
  },
  {
   "cell_type": "code",
   "execution_count": 15,
   "id": "c1340c5c-7607-49df-b6aa-041665d00e2a",
   "metadata": {},
   "outputs": [
    {
     "name": "stdout",
     "output_type": "stream",
     "text": [
      "X shape: (14610, 32, 64, 6) | Y shape: (14610, 32, 64, 1)\n"
     ]
    }
   ],
   "source": [
    "x_data = np.load('weatherbench_predictors.npy')\n",
    "y_data = np.load('weatherbench_predictand.npy')\n",
    "print(f'X shape: {x_data.shape} | Y shape: {y_data.shape}')"
   ]
  },
  {
   "cell_type": "markdown",
   "id": "f57d6eac-027a-4657-81bc-ba2d2e8320bc",
   "metadata": {},
   "source": [
    "Por defecto, PyTorch considera que la segunda dimensión del array con los datos indica la variable/channel. Por ello conviene hacer un reshape de los datos:"
   ]
  },
  {
   "cell_type": "code",
   "execution_count": 16,
   "id": "b1212ec7-dded-4dd2-985c-52ab756730e8",
   "metadata": {},
   "outputs": [],
   "source": [
    "x_data = np.transpose(x_data, (0, 3, 1, 2))\n",
    "y_data = np.transpose(y_data, (0, 3, 1, 2))"
   ]
  },
  {
   "cell_type": "markdown",
   "id": "80fbcf7e-641e-4454-bf5e-112bd2304bba",
   "metadata": {},
   "source": [
    "Dividimos los datos en train y test"
   ]
  },
  {
   "cell_type": "code",
   "execution_count": 17,
   "id": "d3de82f9-44e9-4424-b2c7-ad493db89aa0",
   "metadata": {},
   "outputs": [],
   "source": [
    "indices = np.random.permutation(len(x_data))\n",
    "split_idx = int(0.8 * len(x_data))\n",
    "\n",
    "train_indices = indices[:split_idx]\n",
    "test_indices = indices[split_idx:]\n",
    "\n",
    "x_train, y_train = x_data[train_indices, :], y_data[train_indices, :]\n",
    "x_test, y_test = x_data[test_indices, :], y_data[test_indices, :]"
   ]
  },
  {
   "cell_type": "markdown",
   "id": "cce5160e-3e71-4d54-b999-9340752e86a7",
   "metadata": {},
   "source": [
    "En PyTorch, los `Datasets` son abstracciones de los datos que vamos a utilizar para entrenar a un modelo. Se generan creando una subclase a partir de `torch.utils.data.Dataset` y deben implementar como mínimo tres métodos:\n",
    "\n",
    "- `__init__`: Inicializa/carga los datos que van a formar parte del dataset \n",
    "- `__len__`: Devuelve el número de muestras en el dataset\n",
    "- `__getitem__`: Dado un índice devuelve la correspondiente muestra dentro del dataset\n",
    "\n",
    "Por ejemplo, podemos construir un dataset con los datos de la práctica"
   ]
  },
  {
   "cell_type": "code",
   "execution_count": 18,
   "id": "7ba42086-570e-4342-a5fd-3de86e65e683",
   "metadata": {},
   "outputs": [],
   "source": [
    "# Definimos el dataset\n",
    "class WeatherbenchDataset(Dataset):\n",
    "    def __init__(self, x_data, y_data, transform=None):\n",
    "        self.transform = transform\n",
    "        if not isinstance(x_data, torch.Tensor):\n",
    "            x_data = torch.tensor(x_data)\n",
    "        if not isinstance(x_data, torch.Tensor):\n",
    "            y_data = torch.tensor(y_data)\n",
    "        self.x_data, self.y_data = x_data, y_data\n",
    "\n",
    "    def __len__(self):\n",
    "        return len(self.x_data)\n",
    "\n",
    "    def __getitem__(self, idx):\n",
    "        x_sample, y_sample = self.x_data[idx, :], self.y_data[idx, :]\n",
    "\n",
    "        if self.transform:\n",
    "            x_sample = self.transform(x_sample)\n",
    "        return x_sample, y_sample"
   ]
  },
  {
   "cell_type": "code",
   "execution_count": 19,
   "id": "e26e58ef-80b1-4efa-a65d-c3aa22b02966",
   "metadata": {},
   "outputs": [
    {
     "name": "stdout",
     "output_type": "stream",
     "text": [
      "Numero de elementos en el dataset: 11688\n"
     ]
    }
   ],
   "source": [
    "# Inicializamos el dataset\n",
    "weatherbench_train_dataset = WeatherbenchDataset(x_data=x_train, y_data=y_train)\n",
    "print(f'Numero de elementos en el dataset: {len(weatherbench_train_dataset)}')"
   ]
  },
  {
   "cell_type": "markdown",
   "id": "06ce26c7-539c-4f07-985a-da8a5790a0f7",
   "metadata": {},
   "source": [
    "Podemos acceder a los elementos de este dataset a través de los índices"
   ]
  },
  {
   "cell_type": "code",
   "execution_count": 20,
   "id": "1a9c14f0-03e7-4bb5-a0a2-e899101b0d76",
   "metadata": {},
   "outputs": [
    {
     "name": "stdout",
     "output_type": "stream",
     "text": [
      "Dimension de la x: torch.Size([6, 32, 64]) | Dimension de la y: (1, 32, 64)\n"
     ]
    }
   ],
   "source": [
    "idx = 100\n",
    "x_sample, y_sample = weatherbench_train_dataset[idx]\n",
    "print(f'Dimension de la x: {x_sample.shape} | Dimension de la y: {y_sample.shape}')"
   ]
  },
  {
   "cell_type": "markdown",
   "id": "981b2f8d-7787-49c3-a236-5ceaabf595c4",
   "metadata": {},
   "source": [
    "A la hora de definir/inicializar los datasets es posible relacionarlos con operaciones de preprocesado. Por ejemplo, al inicializar el dataset, es posible normalizar los predictores de forma que cuando obtengamos muestras de él, estas ya estén preparadas para pasarselas al modelo de deep learning"
   ]
  },
  {
   "cell_type": "code",
   "execution_count": 21,
   "id": "effeb5d2-a377-4dd3-a387-a29550595cb5",
   "metadata": {},
   "outputs": [],
   "source": [
    "# Calculamos las medias y desviaciones a usar para la estandarización\n",
    "predictors_train_mean = np.mean(x_train, axis=(0, 2, 3))\n",
    "predictors_train_std = np.std(x_train, axis=(0, 2, 3))\n",
    "\n",
    "# Definimos las transformaciones\n",
    "dataset_transforms = transforms.Compose([transforms.Normalize(mean=predictors_train_mean,\n",
    "                                                              std=predictors_train_std)])\n",
    "\n",
    "# Inicializamos el dataset\n",
    "weatherbench_train_dataset = WeatherbenchDataset(x_data=x_train, y_data=y_train,\n",
    "                                                 transform=dataset_transforms)"
   ]
  },
  {
   "cell_type": "code",
   "execution_count": 22,
   "id": "a6376eac-9c31-43b0-bb88-83508acf17ad",
   "metadata": {},
   "outputs": [],
   "source": [
    "idx = 100\n",
    "x_sample, y_sample = weatherbench_train_dataset[idx]"
   ]
  },
  {
   "cell_type": "markdown",
   "id": "3c58229d-73b2-409e-a303-85bf0cd119bb",
   "metadata": {},
   "source": [
    "Una vez tenemos nuestros datos contenidos en un `Dataset`, debemos definir el `DataLoader`. Este objeto nos permitirá iterar sobre nuestro dataset, creando batches de forma rápida y, si se desea, en paralelo."
   ]
  },
  {
   "cell_type": "code",
   "execution_count": 23,
   "id": "2aad3b37-c329-4490-af50-41fd451aa02a",
   "metadata": {},
   "outputs": [],
   "source": [
    "dataloader_train = DataLoader(dataset=weatherbench_train_dataset,\n",
    "                              batch_size=32, shuffle=True,\n",
    "                              num_workers=2)"
   ]
  },
  {
   "cell_type": "code",
   "execution_count": 24,
   "id": "0b23b495-bdae-4a42-a87e-95a1cbc90c8a",
   "metadata": {},
   "outputs": [
    {
     "name": "stderr",
     "output_type": "stream",
     "text": [
      "Traceback (most recent call last):\n",
      "  File \"<string>\", line 1, in <module>\n",
      "  File \"/Users/claudiavello/.pyenv/versions/3.12.3/lib/python3.12/multiprocessing/spawn.py\", line 122, in spawn_main\n",
      "    exitcode = _main(fd, parent_sentinel)\n",
      "               ^^^^^^^^^^^^^^^^^^^^^^^^^^\n",
      "  File \"/Users/claudiavello/.pyenv/versions/3.12.3/lib/python3.12/multiprocessing/spawn.py\", line 132, in _main\n",
      "    self = reduction.pickle.load(from_parent)\n",
      "           ^^^^^^^^^^^^^^^^^^^^^^^^^^^^^^^^^^\n",
      "AttributeError: Can't get attribute 'WeatherbenchDataset' on <module '__main__' (<class '_frozen_importlib.BuiltinImporter'>)>\n"
     ]
    },
    {
     "ename": "KeyboardInterrupt",
     "evalue": "",
     "output_type": "error",
     "traceback": [
      "\u001b[0;31m---------------------------------------------------------------------------\u001b[0m",
      "\u001b[0;31mKeyboardInterrupt\u001b[0m                         Traceback (most recent call last)",
      "Cell \u001b[0;32mIn[24], line 1\u001b[0m\n\u001b[0;32m----> 1\u001b[0m \u001b[38;5;28;01mfor\u001b[39;00m idx, (batch_x_data, batch_y_data) \u001b[38;5;129;01min\u001b[39;00m \u001b[38;5;28;43menumerate\u001b[39;49m\u001b[43m(\u001b[49m\u001b[43mdataloader_train\u001b[49m\u001b[43m)\u001b[49m:\n\u001b[1;32m      2\u001b[0m     \u001b[38;5;28mprint\u001b[39m(\u001b[38;5;124mf\u001b[39m\u001b[38;5;124m'\u001b[39m\u001b[38;5;124mBatch \u001b[39m\u001b[38;5;132;01m{\u001b[39;00midx\u001b[38;5;132;01m}\u001b[39;00m\u001b[38;5;124m'\u001b[39m)\n\u001b[1;32m      3\u001b[0m     \u001b[38;5;28mprint\u001b[39m(\u001b[38;5;124mf\u001b[39m\u001b[38;5;124m'\u001b[39m\u001b[38;5;124mDimension de la X: \u001b[39m\u001b[38;5;132;01m{\u001b[39;00mbatch_x_data\u001b[38;5;241m.\u001b[39mshape\u001b[38;5;132;01m}\u001b[39;00m\u001b[38;5;124m'\u001b[39m)\n",
      "File \u001b[0;32m~/.pyenv/versions/machinelearning1/lib/python3.12/site-packages/torch/utils/data/dataloader.py:491\u001b[0m, in \u001b[0;36mDataLoader.__iter__\u001b[0;34m(self)\u001b[0m\n\u001b[1;32m    489\u001b[0m     \u001b[38;5;28;01mreturn\u001b[39;00m \u001b[38;5;28mself\u001b[39m\u001b[38;5;241m.\u001b[39m_iterator\n\u001b[1;32m    490\u001b[0m \u001b[38;5;28;01melse\u001b[39;00m:\n\u001b[0;32m--> 491\u001b[0m     \u001b[38;5;28;01mreturn\u001b[39;00m \u001b[38;5;28;43mself\u001b[39;49m\u001b[38;5;241;43m.\u001b[39;49m\u001b[43m_get_iterator\u001b[49m\u001b[43m(\u001b[49m\u001b[43m)\u001b[49m\n",
      "File \u001b[0;32m~/.pyenv/versions/machinelearning1/lib/python3.12/site-packages/torch/utils/data/dataloader.py:422\u001b[0m, in \u001b[0;36mDataLoader._get_iterator\u001b[0;34m(self)\u001b[0m\n\u001b[1;32m    420\u001b[0m \u001b[38;5;28;01melse\u001b[39;00m:\n\u001b[1;32m    421\u001b[0m     \u001b[38;5;28mself\u001b[39m\u001b[38;5;241m.\u001b[39mcheck_worker_number_rationality()\n\u001b[0;32m--> 422\u001b[0m     \u001b[38;5;28;01mreturn\u001b[39;00m \u001b[43m_MultiProcessingDataLoaderIter\u001b[49m\u001b[43m(\u001b[49m\u001b[38;5;28;43mself\u001b[39;49m\u001b[43m)\u001b[49m\n",
      "File \u001b[0;32m~/.pyenv/versions/machinelearning1/lib/python3.12/site-packages/torch/utils/data/dataloader.py:1146\u001b[0m, in \u001b[0;36m_MultiProcessingDataLoaderIter.__init__\u001b[0;34m(self, loader)\u001b[0m\n\u001b[1;32m   1139\u001b[0m w\u001b[38;5;241m.\u001b[39mdaemon \u001b[38;5;241m=\u001b[39m \u001b[38;5;28;01mTrue\u001b[39;00m\n\u001b[1;32m   1140\u001b[0m \u001b[38;5;66;03m# NB: Process.start() actually take some time as it needs to\u001b[39;00m\n\u001b[1;32m   1141\u001b[0m \u001b[38;5;66;03m#     start a process and pass the arguments over via a pipe.\u001b[39;00m\n\u001b[1;32m   1142\u001b[0m \u001b[38;5;66;03m#     Therefore, we only add a worker to self._workers list after\u001b[39;00m\n\u001b[1;32m   1143\u001b[0m \u001b[38;5;66;03m#     it started, so that we do not call .join() if program dies\u001b[39;00m\n\u001b[1;32m   1144\u001b[0m \u001b[38;5;66;03m#     before it starts, and __del__ tries to join but will get:\u001b[39;00m\n\u001b[1;32m   1145\u001b[0m \u001b[38;5;66;03m#     AssertionError: can only join a started process.\u001b[39;00m\n\u001b[0;32m-> 1146\u001b[0m \u001b[43mw\u001b[49m\u001b[38;5;241;43m.\u001b[39;49m\u001b[43mstart\u001b[49m\u001b[43m(\u001b[49m\u001b[43m)\u001b[49m\n\u001b[1;32m   1147\u001b[0m \u001b[38;5;28mself\u001b[39m\u001b[38;5;241m.\u001b[39m_index_queues\u001b[38;5;241m.\u001b[39mappend(index_queue)\n\u001b[1;32m   1148\u001b[0m \u001b[38;5;28mself\u001b[39m\u001b[38;5;241m.\u001b[39m_workers\u001b[38;5;241m.\u001b[39mappend(w)\n",
      "File \u001b[0;32m~/.pyenv/versions/3.12.3/lib/python3.12/multiprocessing/process.py:121\u001b[0m, in \u001b[0;36mBaseProcess.start\u001b[0;34m(self)\u001b[0m\n\u001b[1;32m    118\u001b[0m \u001b[38;5;28;01massert\u001b[39;00m \u001b[38;5;129;01mnot\u001b[39;00m _current_process\u001b[38;5;241m.\u001b[39m_config\u001b[38;5;241m.\u001b[39mget(\u001b[38;5;124m'\u001b[39m\u001b[38;5;124mdaemon\u001b[39m\u001b[38;5;124m'\u001b[39m), \\\n\u001b[1;32m    119\u001b[0m        \u001b[38;5;124m'\u001b[39m\u001b[38;5;124mdaemonic processes are not allowed to have children\u001b[39m\u001b[38;5;124m'\u001b[39m\n\u001b[1;32m    120\u001b[0m _cleanup()\n\u001b[0;32m--> 121\u001b[0m \u001b[38;5;28mself\u001b[39m\u001b[38;5;241m.\u001b[39m_popen \u001b[38;5;241m=\u001b[39m \u001b[38;5;28;43mself\u001b[39;49m\u001b[38;5;241;43m.\u001b[39;49m\u001b[43m_Popen\u001b[49m\u001b[43m(\u001b[49m\u001b[38;5;28;43mself\u001b[39;49m\u001b[43m)\u001b[49m\n\u001b[1;32m    122\u001b[0m \u001b[38;5;28mself\u001b[39m\u001b[38;5;241m.\u001b[39m_sentinel \u001b[38;5;241m=\u001b[39m \u001b[38;5;28mself\u001b[39m\u001b[38;5;241m.\u001b[39m_popen\u001b[38;5;241m.\u001b[39msentinel\n\u001b[1;32m    123\u001b[0m \u001b[38;5;66;03m# Avoid a refcycle if the target function holds an indirect\u001b[39;00m\n\u001b[1;32m    124\u001b[0m \u001b[38;5;66;03m# reference to the process object (see bpo-30775)\u001b[39;00m\n",
      "File \u001b[0;32m~/.pyenv/versions/3.12.3/lib/python3.12/multiprocessing/context.py:224\u001b[0m, in \u001b[0;36mProcess._Popen\u001b[0;34m(process_obj)\u001b[0m\n\u001b[1;32m    222\u001b[0m \u001b[38;5;129m@staticmethod\u001b[39m\n\u001b[1;32m    223\u001b[0m \u001b[38;5;28;01mdef\u001b[39;00m\u001b[38;5;250m \u001b[39m\u001b[38;5;21m_Popen\u001b[39m(process_obj):\n\u001b[0;32m--> 224\u001b[0m     \u001b[38;5;28;01mreturn\u001b[39;00m \u001b[43m_default_context\u001b[49m\u001b[38;5;241;43m.\u001b[39;49m\u001b[43mget_context\u001b[49m\u001b[43m(\u001b[49m\u001b[43m)\u001b[49m\u001b[38;5;241;43m.\u001b[39;49m\u001b[43mProcess\u001b[49m\u001b[38;5;241;43m.\u001b[39;49m\u001b[43m_Popen\u001b[49m\u001b[43m(\u001b[49m\u001b[43mprocess_obj\u001b[49m\u001b[43m)\u001b[49m\n",
      "File \u001b[0;32m~/.pyenv/versions/3.12.3/lib/python3.12/multiprocessing/context.py:289\u001b[0m, in \u001b[0;36mSpawnProcess._Popen\u001b[0;34m(process_obj)\u001b[0m\n\u001b[1;32m    286\u001b[0m \u001b[38;5;129m@staticmethod\u001b[39m\n\u001b[1;32m    287\u001b[0m \u001b[38;5;28;01mdef\u001b[39;00m\u001b[38;5;250m \u001b[39m\u001b[38;5;21m_Popen\u001b[39m(process_obj):\n\u001b[1;32m    288\u001b[0m     \u001b[38;5;28;01mfrom\u001b[39;00m\u001b[38;5;250m \u001b[39m\u001b[38;5;21;01m.\u001b[39;00m\u001b[38;5;21;01mpopen_spawn_posix\u001b[39;00m\u001b[38;5;250m \u001b[39m\u001b[38;5;28;01mimport\u001b[39;00m Popen\n\u001b[0;32m--> 289\u001b[0m     \u001b[38;5;28;01mreturn\u001b[39;00m \u001b[43mPopen\u001b[49m\u001b[43m(\u001b[49m\u001b[43mprocess_obj\u001b[49m\u001b[43m)\u001b[49m\n",
      "File \u001b[0;32m~/.pyenv/versions/3.12.3/lib/python3.12/multiprocessing/popen_spawn_posix.py:32\u001b[0m, in \u001b[0;36mPopen.__init__\u001b[0;34m(self, process_obj)\u001b[0m\n\u001b[1;32m     30\u001b[0m \u001b[38;5;28;01mdef\u001b[39;00m\u001b[38;5;250m \u001b[39m\u001b[38;5;21m__init__\u001b[39m(\u001b[38;5;28mself\u001b[39m, process_obj):\n\u001b[1;32m     31\u001b[0m     \u001b[38;5;28mself\u001b[39m\u001b[38;5;241m.\u001b[39m_fds \u001b[38;5;241m=\u001b[39m []\n\u001b[0;32m---> 32\u001b[0m     \u001b[38;5;28;43msuper\u001b[39;49m\u001b[43m(\u001b[49m\u001b[43m)\u001b[49m\u001b[38;5;241;43m.\u001b[39;49m\u001b[38;5;21;43m__init__\u001b[39;49m\u001b[43m(\u001b[49m\u001b[43mprocess_obj\u001b[49m\u001b[43m)\u001b[49m\n",
      "File \u001b[0;32m~/.pyenv/versions/3.12.3/lib/python3.12/multiprocessing/popen_fork.py:19\u001b[0m, in \u001b[0;36mPopen.__init__\u001b[0;34m(self, process_obj)\u001b[0m\n\u001b[1;32m     17\u001b[0m \u001b[38;5;28mself\u001b[39m\u001b[38;5;241m.\u001b[39mreturncode \u001b[38;5;241m=\u001b[39m \u001b[38;5;28;01mNone\u001b[39;00m\n\u001b[1;32m     18\u001b[0m \u001b[38;5;28mself\u001b[39m\u001b[38;5;241m.\u001b[39mfinalizer \u001b[38;5;241m=\u001b[39m \u001b[38;5;28;01mNone\u001b[39;00m\n\u001b[0;32m---> 19\u001b[0m \u001b[38;5;28;43mself\u001b[39;49m\u001b[38;5;241;43m.\u001b[39;49m\u001b[43m_launch\u001b[49m\u001b[43m(\u001b[49m\u001b[43mprocess_obj\u001b[49m\u001b[43m)\u001b[49m\n",
      "File \u001b[0;32m~/.pyenv/versions/3.12.3/lib/python3.12/multiprocessing/popen_spawn_posix.py:62\u001b[0m, in \u001b[0;36mPopen._launch\u001b[0;34m(self, process_obj)\u001b[0m\n\u001b[1;32m     60\u001b[0m     \u001b[38;5;28mself\u001b[39m\u001b[38;5;241m.\u001b[39msentinel \u001b[38;5;241m=\u001b[39m parent_r\n\u001b[1;32m     61\u001b[0m     \u001b[38;5;28;01mwith\u001b[39;00m \u001b[38;5;28mopen\u001b[39m(parent_w, \u001b[38;5;124m'\u001b[39m\u001b[38;5;124mwb\u001b[39m\u001b[38;5;124m'\u001b[39m, closefd\u001b[38;5;241m=\u001b[39m\u001b[38;5;28;01mFalse\u001b[39;00m) \u001b[38;5;28;01mas\u001b[39;00m f:\n\u001b[0;32m---> 62\u001b[0m         \u001b[43mf\u001b[49m\u001b[38;5;241;43m.\u001b[39;49m\u001b[43mwrite\u001b[49m\u001b[43m(\u001b[49m\u001b[43mfp\u001b[49m\u001b[38;5;241;43m.\u001b[39;49m\u001b[43mgetbuffer\u001b[49m\u001b[43m(\u001b[49m\u001b[43m)\u001b[49m\u001b[43m)\u001b[49m\n\u001b[1;32m     63\u001b[0m \u001b[38;5;28;01mfinally\u001b[39;00m:\n\u001b[1;32m     64\u001b[0m     fds_to_close \u001b[38;5;241m=\u001b[39m []\n",
      "\u001b[0;31mKeyboardInterrupt\u001b[0m: "
     ]
    }
   ],
   "source": [
    "for idx, (batch_x_data, batch_y_data) in enumerate(dataloader_train):\n",
    "    print(f'Batch {idx}')\n",
    "    print(f'Dimension de la X: {batch_x_data.shape}')\n",
    "    print(f'Dimension de la Y: {batch_y_data.shape}')\n",
    "    break"
   ]
  },
  {
   "cell_type": "markdown",
   "id": "3b1b6605-f97f-4636-8e3c-226a6e70c0e0",
   "metadata": {},
   "source": [
    "### Definición del modelo"
   ]
  },
  {
   "cell_type": "markdown",
   "id": "d8d05140-e020-43e6-8b32-6c7ef9ef0fbf",
   "metadata": {},
   "source": [
    "Una vez tenemos nuestros datos preparados, podemos empezar a definir el modelo de deep learning que vamos a entrenar sobre ellos. En PyTorch los modelos se suelen definir dentro de su propia clase, la cual es una subclase de `nn.Module`. Un modelo concreto está formado por módulos (e.g., capas convolucionales, funciones de activación, capas fully-connected, etc.) y estos, a su vez, por otros modulos más simples (e.g., sumas, productos de matrices, etc.). Estas clases necesitan tener, por lo menos, dos métodos:\n",
    "\n",
    "- `__init__`: Definelas capas (módulos) y parámetros que van a formar parte de la arquitectura del modelo.\n",
    "- `forward`: Define el conjunto de operaciones que forman el *forward pass* del modelo. En base a las operaciones que definamos aquí, `torch.autograd` calculará los gradientes de forma automática."
   ]
  },
  {
   "cell_type": "markdown",
   "id": "ee855900-b922-4863-8a81-52e41cabaa84",
   "metadata": {},
   "source": [
    "A fin de visualizar el proceso de construcción de modelos, vamos a construir un modelo convolucional similar a algunos de los hechos en la práctica de convoluciones en clase"
   ]
  },
  {
   "cell_type": "code",
   "execution_count": null,
   "id": "bc31866f-2e08-4729-9b52-50556243fff4",
   "metadata": {},
   "outputs": [],
   "source": [
    "class ConvolutionalModel(nn.Module):\n",
    "    def __init__(self, input_dim, output_dim):\n",
    "        super(ConvolutionalModel, self).__init__()\n",
    "\n",
    "        self.input_dim = input_dim\n",
    "        self.output_dim = output_dim\n",
    "        self.num_filters = [8, 16, 32]\n",
    "\n",
    "        # Primer bloque\n",
    "        self.conv_1 = nn.Conv2d(in_channels=self.input_dim[0], out_channels=self.num_filters[0],\n",
    "                                kernel_size=3, padding='same')\n",
    "        self.bn_1 = nn.BatchNorm2d(num_features=self.num_filters[0])\n",
    "\n",
    "        # Segundo bloque\n",
    "        self.conv_2 = nn.Conv2d(in_channels=self.num_filters[0], out_channels=self.num_filters[1],\n",
    "                                kernel_size=3, padding='same')\n",
    "        self.bn_2 = nn.BatchNorm2d(num_features=self.num_filters[1])\n",
    "\n",
    "        # Tercer bloque\n",
    "        self.conv_3 = nn.Conv2d(in_channels=self.num_filters[1], out_channels=self.num_filters[2],\n",
    "                                kernel_size=3, padding='same')\n",
    "        self.bn_3 = nn.BatchNorm2d(num_features=self.num_filters[2])\n",
    "\n",
    "        # Bloque final\n",
    "        self.conv_4 = nn.Conv2d(in_channels=self.num_filters[2], out_channels=1,\n",
    "                                kernel_size=1, padding='same')\n",
    "\n",
    "    def forward(self, x):\n",
    "\n",
    "        x = self.conv_1(x)\n",
    "        x = self.bn_1(x)\n",
    "\n",
    "        x = self.conv_2(x)\n",
    "        x = self.bn_2(x)\n",
    "\n",
    "        x = self.conv_3(x)\n",
    "        x = self.bn_3(x)\n",
    "\n",
    "        out = self.conv_4(x)\n",
    "        return out"
   ]
  },
  {
   "cell_type": "code",
   "execution_count": null,
   "id": "d45ba64a-3771-40cd-a2b4-65dce3d36137",
   "metadata": {},
   "outputs": [
    {
     "name": "stdout",
     "output_type": "stream",
     "text": [
      "ConvolutionalModel(\n",
      "  (conv_1): Conv2d(6, 8, kernel_size=(3, 3), stride=(1, 1), padding=same)\n",
      "  (bn_1): BatchNorm2d(8, eps=1e-05, momentum=0.1, affine=True, track_running_stats=True)\n",
      "  (conv_2): Conv2d(8, 16, kernel_size=(3, 3), stride=(1, 1), padding=same)\n",
      "  (bn_2): BatchNorm2d(16, eps=1e-05, momentum=0.1, affine=True, track_running_stats=True)\n",
      "  (conv_3): Conv2d(16, 32, kernel_size=(3, 3), stride=(1, 1), padding=same)\n",
      "  (bn_3): BatchNorm2d(32, eps=1e-05, momentum=0.1, affine=True, track_running_stats=True)\n",
      "  (conv_4): Conv2d(32, 1, kernel_size=(1, 1), stride=(1, 1), padding=same)\n",
      ")\n"
     ]
    }
   ],
   "source": [
    "# Inicializamos el modelo\n",
    "input_dim, output_dim = x_train.shape[1:], y_train.shape[1:]\n",
    "model = ConvolutionalModel(input_dim=input_dim,\n",
    "                           output_dim=output_dim)\n",
    "print(model)"
   ]
  },
  {
   "cell_type": "markdown",
   "id": "4bb4b5f2-c1cf-47b0-9bd7-ab6d3321212f",
   "metadata": {},
   "source": [
    "El modelo ya esta definido e inicializado. De hecho, si le pasamos datos de entrada, el modelo les procesará (utilizando `model.forward()`) y nos devolverá la salida"
   ]
  },
  {
   "cell_type": "code",
   "execution_count": 26,
   "id": "7f8d710f-51be-4dcf-a53f-2b69f510dc10",
   "metadata": {},
   "outputs": [
    {
     "name": "stdout",
     "output_type": "stream",
     "text": [
      "Batch 0\n",
      "Dimension de la X: torch.Size([32, 6, 32, 64])\n",
      "Dimension de la Y: torch.Size([32, 1, 32, 64])\n",
      "Dimension de la predicción del modelo: torch.Size([32, 1, 32, 64])\n"
     ]
    }
   ],
   "source": [
    "for idx, (batch_x_data, batch_y_data) in enumerate(dataloader_train):\n",
    "    print(f'Batch {idx}')\n",
    "    print(f'Dimension de la X: {batch_x_data.shape}')\n",
    "    print(f'Dimension de la Y: {batch_y_data.shape}')\n",
    "    model_prediction = model(batch_x_data)\n",
    "    print(f'Dimension de la predicción del modelo: {model_prediction.shape}')\n",
    "    break"
   ]
  },
  {
   "cell_type": "markdown",
   "id": "0117da29-aa64-459a-9c8a-409915d5b47a",
   "metadata": {},
   "source": [
    "### Entrenamiento del modelo"
   ]
  },
  {
   "cell_type": "markdown",
   "id": "a04cfa96-ffe0-45c8-bc7c-da553c8edfe7",
   "metadata": {},
   "source": [
    "Ya tenemos el modelo construido, sin embargo los pesos están asignados de forma aleatoria, necesitamos entrenarlo. PyTorch ofrece la posibilidad de controlar totalmente el proceso de entrenamiento. De hecho, tenemos que ser nosotros los que definamos las iteraciones del modelo a través de los batches, el cálculo de los *forward* y *backward passes* y la actualización de los pesos. Esto, aunque en un principio puede parecer complicado, es bastante sencillo y proveé al usuario de un gran control sobre el entrenamiento del modelo."
   ]
  },
  {
   "cell_type": "markdown",
   "id": "fd69db61-9dcb-444d-bffb-994edcc2b977",
   "metadata": {},
   "source": [
    "Dado que estamos ante un problema de regresión, como función de coste vamos a utilizar el Mean Squared Error (MSE). PyTorch ofrece una gran lista de [funciones de coste](https://pytorch.org/docs/stable/nn.html#loss-functions) a utilizar, en este caso nosotros seleccionaremos `nn.MSELoss`. A la hora de entrenar el modelo, estas funciones de coste tomarán como entrada un `input` y un `target` sobre los que se aplicarán la correspondiente función. Sobre la salida de esta función se calcularán los gradientes a utilizar para actualizar los pesos del modelo."
   ]
  },
  {
   "cell_type": "code",
   "execution_count": 27,
   "id": "5e19a4f8-85a4-4b86-bbda-ad44c15b234f",
   "metadata": {},
   "outputs": [],
   "source": [
    "loss_function = nn.MSELoss()"
   ]
  },
  {
   "attachments": {
    "7edf366b-360a-4972-b45f-113732227b7d.png": {
     "image/png": "[encoded data removed]"
    }
   },
   "cell_type": "markdown",
   "id": "572406fc-08ac-45ff-b5e9-504ab044ba9a",
   "metadata": {},
   "source": [
    "También vamos a necesitar definir el optimizador. Este objeto va a dictar como se actualizan los pesos del modelo en base a los gradientes que calculemos en cada batch. Nosotros vamos a utilizar el **Stochastic Gradient Descent (SGD)**. En PyTorch este se define de la siguiente manera:\n",
    "\n",
    "![image.png](attachment:7edf366b-360a-4972-b45f-113732227b7d.png)\n",
    "\n",
    "Nosotros nos vamos a limitar a la versión más sencilla, necesitando solo definir el **learning rate** a utilizar durante el entrenamiento."
   ]
  },
  {
   "cell_type": "code",
   "execution_count": 28,
   "id": "c7798165-6c70-4104-a3c6-c01690772f12",
   "metadata": {},
   "outputs": [],
   "source": [
    "learning_rate = 0.001\n",
    "optimizer = torch.optim.SGD(model.parameters(), lr=learning_rate)"
   ]
  },
  {
   "cell_type": "markdown",
   "id": "ddfc430b-a4c3-4431-b8b9-b96b1e34638b",
   "metadata": {},
   "source": [
    "Además el modelo le vamos a entrenar por un número de epochs concreto"
   ]
  },
  {
   "cell_type": "code",
   "execution_count": 29,
   "id": "9dc42804-1eea-46d8-a778-c54008546329",
   "metadata": {},
   "outputs": [],
   "source": [
    "num_epochs = 10"
   ]
  },
  {
   "cell_type": "markdown",
   "id": "ee4d9ecb-f760-40c7-92ef-3a22776a1bb7",
   "metadata": {},
   "source": [
    "Con todos los ingredientes ya definidos, podemos continuar con el entrenamiento del modelo. El proceso, a grandes rasgos, será el siguiente:\n",
    "\n",
    "- Iteramos sobre el número de epochs\n",
    "    - Iteramos sobre los batches creados por el `DataLoader` sobre el `Dataset` a utilizar para entrenar el modelo\n",
    "        - Calculamos el *forward pass* para obtener la predicción del modelo\n",
    "        - Calculamos el valor de la función de coste\n",
    "        - A través del *backward pass* (backpropagation) calculamos los gradientes de la función de coste con respecto a los pesos del modelo\n",
    "        - Actualizamos los pesos del modelo utilizando los gradientes y el algoritmo de optimización  "
   ]
  },
  {
   "cell_type": "code",
   "execution_count": 30,
   "id": "fd38156f-42de-41f1-ad0f-cddd05101475",
   "metadata": {},
   "outputs": [
    {
     "name": "stdout",
     "output_type": "stream",
     "text": [
      "Epoch 0/10...\n",
      "Loss function: 1675.3063647500626\n",
      "\n",
      "Epoch 1/10...\n",
      "Loss function: 30.188888233871513\n",
      "\n",
      "Epoch 2/10...\n",
      "Loss function: 28.386272181067707\n",
      "\n",
      "Epoch 3/10...\n",
      "Loss function: 27.39544765334028\n",
      "\n",
      "Epoch 4/10...\n",
      "Loss function: 26.722776915584827\n",
      "\n",
      "Epoch 5/10...\n",
      "Loss function: 26.291310334515686\n",
      "\n",
      "Epoch 6/10...\n",
      "Loss function: 26.066365941104458\n",
      "\n",
      "Epoch 7/10...\n",
      "Loss function: 25.908114026622524\n",
      "\n",
      "Epoch 8/10...\n",
      "Loss function: 25.80365493769192\n",
      "\n",
      "Epoch 9/10...\n",
      "Loss function: 25.75842179279471\n",
      "\n"
     ]
    }
   ],
   "source": [
    "# Inicializamos una lista para guardar la loss por epoch\n",
    "loss_train = []\n",
    "\n",
    "# Iteramos sobre las epochs\n",
    "for epoch in range(num_epochs):\n",
    "    print(f'Epoch {epoch}/{num_epochs}...')\n",
    "    # Definimos una variable para acumular el valor de la función de coste por epoch\n",
    "    epoch_loss = 0.0 \n",
    "    # Iteramos sobre los batches\n",
    "    for idx, (batch_x_data, batch_y_data) in enumerate(dataloader_train):\n",
    "        batch_size = batch_x_data.shape[0]\n",
    "        \n",
    "        # Hacemos cero los gradientes ya que por defecto estos se acumulan\n",
    "        optimizer.zero_grad()\n",
    "\n",
    "        # Calculamos el forward pass\n",
    "        outputs = model(batch_x_data) # Por debajo PyTorch llama a model.forward()\n",
    "\n",
    "        # Calculamos la función de coste\n",
    "        loss_batch = loss_function(outputs, batch_y_data)\n",
    "        epoch_loss += batch_size * loss_batch.item()\n",
    "\n",
    "        # Calculamos los gradientes (backward pass)\n",
    "        loss_batch.backward()\n",
    "\n",
    "        # Actualizamos los pesos del modelo\n",
    "        optimizer.step()\n",
    "\n",
    "    # Calulamos la loss para la epoch\n",
    "    epoch_loss = epoch_loss / len(weatherbench_train_dataset)\n",
    "    loss_train.append(epoch_loss)\n",
    "    print(f'Loss function: {epoch_loss}')\n",
    "    print('')\n",
    "\n",
    "# Al finalizar el entrenamiento guardamos el modelo (solo los pesos)\n",
    "model_name = 'model.pt'\n",
    "torch.save(model.state_dict(), model_name)"
   ]
  },
  {
   "cell_type": "markdown",
   "id": "101df7a1-d5e2-43cc-a994-07a172ba0d76",
   "metadata": {},
   "source": [
    "### Inferencia"
   ]
  },
  {
   "cell_type": "markdown",
   "id": "4789edf1-c127-470c-8caf-3b0ab1e30bab",
   "metadata": {},
   "source": [
    "Los modelos entrenados se pueden cargar en otro momento y hacer predicciones con ellos (o incluso retomar el entrenamiento). Para ello, primero inicializamos el modelo y después le asignamos los pesos que hemos guardado durante el entrenamiento con `torch.save()`"
   ]
  },
  {
   "cell_type": "code",
   "execution_count": 31,
   "id": "14e2f7e7-ce76-433a-b93e-429a14dc5c34",
   "metadata": {},
   "outputs": [
    {
     "data": {
      "text/plain": [
       "<All keys matched successfully>"
      ]
     },
     "execution_count": 31,
     "metadata": {},
     "output_type": "execute_result"
    }
   ],
   "source": [
    "model = ConvolutionalModel(input_dim=input_dim,\n",
    "                           output_dim=output_dim)\n",
    "model.load_state_dict(torch.load(model_name))"
   ]
  },
  {
   "cell_type": "markdown",
   "id": "ca358c14-cc9c-4cc7-bdfb-fb48c5d30fa1",
   "metadata": {},
   "source": [
    "En PyTorch es importante indicar al modelo que estamos en modo inferencia a través de `model.eval()`. Esto se debe a que algunas capas no funcionan de la misma manera en el entrenamiento que en la inferencia (e.g., Dropout o Batch Normalization)."
   ]
  },
  {
   "cell_type": "code",
   "execution_count": 32,
   "id": "95dbd5a3-ea88-4b1d-9ed7-6581cd3bbc70",
   "metadata": {},
   "outputs": [],
   "source": [
    "model = model.eval()"
   ]
  },
  {
   "cell_type": "markdown",
   "id": "4620d427-93fd-4749-947c-df70c4be9d1c",
   "metadata": {},
   "source": [
    "Para generar las predicciones basta con correr el `model()` sobre los datos a predecir. También podemos, de forma similar que para el entrenamiento, iterar sobre un `Dataset` con el `DataLoader`."
   ]
  },
  {
   "cell_type": "code",
   "execution_count": 33,
   "id": "00d665f3-9c27-49f0-85f3-d4fd2001e7c0",
   "metadata": {},
   "outputs": [
    {
     "name": "stdout",
     "output_type": "stream",
     "text": [
      "Número de muestras en el periodo de test: 2922\n"
     ]
    }
   ],
   "source": [
    "weatherbench_test_dataset = WeatherbenchDataset(x_data=x_test, y_data=y_test,\n",
    "                                                transform=dataset_transforms)\n",
    "\n",
    "dataloader_test = DataLoader(dataset=weatherbench_test_dataset,\n",
    "                             batch_size=32, shuffle=False, num_workers=2)\n",
    "\n",
    "print(f'Número de muestras en el periodo de test: {len(weatherbench_test_dataset)}')"
   ]
  },
  {
   "cell_type": "markdown",
   "id": "c282a3af-97ee-4a74-af9b-5012354cea63",
   "metadata": {},
   "source": [
    "E iterar sobre ellas:"
   ]
  },
  {
   "cell_type": "code",
   "execution_count": 34,
   "id": "4303912e-8df9-4a97-aff4-8c2a92cc382c",
   "metadata": {},
   "outputs": [],
   "source": [
    "y_test_pred = []\n",
    "\n",
    "with torch.no_grad(): # Evita el calculo de gradientes, para la evaluación no les necesitamos\n",
    "    for batch_x_data, batch_y_data in dataloader_test:\n",
    "        pred = model(batch_x_data).numpy()\n",
    "        y_test_pred.append(pred)\n",
    "        \n",
    "y_test_pred = np.concatenate(y_test_pred)"
   ]
  },
  {
   "cell_type": "markdown",
   "id": "5230690f-5789-449d-8aa5-ef7aa6534d4b",
   "metadata": {},
   "source": [
    "### Personalización del entrenamiento"
   ]
  },
  {
   "cell_type": "markdown",
   "id": "6ebc7cc3-4cd5-4914-bcad-793bfe8f1485",
   "metadata": {},
   "source": [
    "Definir todo el proceso de entrenamiento nos da mucha flexibilidad para hacer un seguimiento de aspectos muy específicos de nuestro modelo (e.g., debug). Por ejemplo, a continuación vamos a modificar el bucle de entrenamiento previo para visualizar la distribución de los pesos y los gradientes de la primera capa convolucional."
   ]
  },
  {
   "cell_type": "code",
   "execution_count": 48,
   "id": "3368dadd-b8e0-4415-b048-1cb5a86f1f09",
   "metadata": {},
   "outputs": [],
   "source": [
    "# Initialize model\n",
    "input_dim, output_dim = x_train.shape[1:], y_train.shape[1:]\n",
    "model = ConvolutionalModel(input_dim=input_dim,\n",
    "                           output_dim=output_dim)\n",
    "\n",
    "# Set hyerparameters\n",
    "loss_function = nn.MSELoss()\n",
    "learning_rate = 0.001\n",
    "optimizer = torch.optim.SGD(model.parameters(), lr=learning_rate)\n",
    "num_epochs = 5"
   ]
  },
  {
   "cell_type": "code",
   "execution_count": 49,
   "id": "500823f9-94c3-400f-aa07-3996600a33b3",
   "metadata": {},
   "outputs": [
    {
     "data": {
      "image/png": "[encoded data removed]",
      "text/plain": [
       "<Figure size 1000x400 with 2 Axes>"
      ]
     },
     "metadata": {},
     "output_type": "display_data"
    }
   ],
   "source": [
    "%matplotlib inline\n",
    "\n",
    "# Iteramos sobre las epochs\n",
    "for epoch in range(num_epochs):\n",
    "    # Definimos una variable para acumular el valor de la función de coste por epoch\n",
    "    epoch_loss = 0.0 \n",
    "    # Iteramos sobre los batches\n",
    "    for idx, (batch_x_data, batch_y_data) in enumerate(dataloader_train):\n",
    "        batch_size = batch_x_data.shape[0]\n",
    "        \n",
    "        # Hacemos cero los gradientes ya que por defecto estos se acumulan\n",
    "        optimizer.zero_grad()\n",
    "\n",
    "        # Calculamos el forward pass\n",
    "        outputs = model(batch_x_data) # Por debajo PyTorch llama a model.forward()\n",
    "\n",
    "        # Calculamos la función de coste\n",
    "        loss_batch = loss_function(outputs, batch_y_data)\n",
    "        epoch_loss += batch_size * loss_batch.item()\n",
    "\n",
    "        # Calculamos los gradientes (backward pass)\n",
    "        loss_batch.backward()\n",
    "\n",
    "        # Actualizamos los pesos del modelo\n",
    "        optimizer.step()\n",
    "\n",
    "        # Dibujamos la distribución de los pesos y los gradientes para la conv_1\n",
    "        weights = model.conv_1.weight.data.cpu().numpy().flatten()\n",
    "        grads = model.conv_1.weight.grad.data.cpu().numpy().flatten()\n",
    "\n",
    "        clear_output(wait=True)\n",
    "        fig, axes = plt.subplots(1, 2, figsize=(10, 4))\n",
    "\n",
    "        axes[0].hist(weights, bins=50, alpha=0.7, color='blue')\n",
    "        axes[0].set_title(f'Distribución de los pesos (Conv_1) por batch',\n",
    "                          fontsize=10)\n",
    "        axes[0].set_xlabel('Valor')\n",
    "        axes[0].set_ylabel('Frecuencia')\n",
    "        axes[0].grid(True)\n",
    "\n",
    "        axes[1].hist(grads, bins=50, alpha=0.7, color='red')\n",
    "        axes[1].set_title(f'Distribución de los gradientes (Conv_1) por batch',\n",
    "                          fontsize=10)\n",
    "        axes[1].set_xlabel('Valor')\n",
    "        axes[1].set_ylabel('Frecuencia')\n",
    "        axes[1].grid(True)\n",
    "\n",
    "        plt.show()"
   ]
  },
  {
   "cell_type": "markdown",
   "id": "c6358d89-e769-4740-a6b3-3abc45842cb4",
   "metadata": {},
   "source": [
    "### Propuesta de práctica"
   ]
  },
  {
   "cell_type": "markdown",
   "id": "2517631c-c3fe-47f5-a1ec-8732f59681cc",
   "metadata": {},
   "source": [
    "Al igual que Keras, PyTorch pone a disposición del usuario una serie de datasets a través de su propio objeto `Dataset`. Por ejemplo, para descargar CIFAR10 (un dataset que ya hemos visto en prácticas previas) y aplicarle una serie de transformaciones basta con hacer lo siguiente"
   ]
  },
  {
   "cell_type": "code",
   "execution_count": 50,
   "id": "2c4f6174-8c28-4c6b-8af0-bcd23f848539",
   "metadata": {},
   "outputs": [],
   "source": [
    "transforms_cifar10 = transforms.Compose([\n",
    "    transforms.ToTensor(),\n",
    "    transforms.Normalize((0.4914, 0.4822, 0.4465),\n",
    "                         (0.2023, 0.1994, 0.2010))])\n",
    "\n",
    "dataset_cifar10 = datasets.CIFAR10(root='./cifar10', download=True, \n",
    "                                   transform=transforms_cifar10)"
   ]
  },
  {
   "cell_type": "code",
   "execution_count": 51,
   "id": "6d94c951-1880-4aba-a92d-0ecb64074cdb",
   "metadata": {},
   "outputs": [
    {
     "name": "stdout",
     "output_type": "stream",
     "text": [
      "Numero de muestras en el dataset: 50000\n"
     ]
    }
   ],
   "source": [
    "print(f'Numero de muestras en el dataset: {len(dataset_cifar10)}')"
   ]
  },
  {
   "attachments": {
    "d9499440-8d63-434c-9241-0c7103d64261.png": {
     "image/png": "[encoded data removed]"
    }
   },
   "cell_type": "markdown",
   "id": "91168194-a23b-42dd-8277-d78dd3b0a004",
   "metadata": {},
   "source": [
    "Dados estos datos, un ejercicio interesante pasa por intentar entrenar un Variational Autoencoder (VAE) para poder generar nuevas muestras (imágenes) $\\mathbf{x}$ de la distribución $P(\\mathbf{X})$. Para ello necesitaríamos construir la correspondiente arquitectura y la función de pérdida:\n",
    "\n",
    "![image.png](attachment:d9499440-8d63-434c-9241-0c7103d64261.png)"
   ]
  },
  {
   "cell_type": "code",
   "execution_count": null,
   "id": "7f2e06d6-b33a-4706-b46d-437d6fc1cd43",
   "metadata": {},
   "outputs": [],
   "source": [
    "# TODO"
   ]
  }
 ],
 "metadata": {
  "kernelspec": {
   "display_name": "machinelearning1",
   "language": "python",
   "name": "machinelearning1"
  },
  "language_info": {
   "codemirror_mode": {
    "name": "ipython",
    "version": 3
   },
   "file_extension": ".py",
   "mimetype": "text/x-python",
   "name": "python",
   "nbconvert_exporter": "python",
   "pygments_lexer": "ipython3",
   "version": "3.12.3"
  }
 },
 "nbformat": 4,
 "nbformat_minor": 5
}
